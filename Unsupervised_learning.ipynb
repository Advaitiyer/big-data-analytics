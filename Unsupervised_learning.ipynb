{
 "cells": [
  {
   "cell_type": "markdown",
   "metadata": {},
   "source": [
    "# IST 718: Big Data Analytics\n",
    "\n",
    "- Professor: Daniel Acuna <deacuna@syr.edu>\n",
    "\n",
    "## General instructions:\n",
    "\n",
    "- You are welcome to discuss the problems with your classmates but __you are not allowed to copy any part of your answers either from your classmates or from the internet__\n",
    "- You can put the homework files anywhere you want in your http://notebook.acuna.io workspace but _do not change_ the file names. The TAs and the professor use these names to grade your homework.\n",
    "- Remove or comment out code that contains `raise NotImplementedError`. This is mainly to make the `assert` statement fail if nothing is submitted.\n",
    "- The tests shown in some cells (i.e., `assert` and `np.testing.` statements) are used to grade your answers. **However, the professor and TAs will use __additional__ test for your answer. Think about cases where your code should run even if it passess all the tests you see.**\n",
    "- Before downloading and submitting your work through Blackboard, remember to save and press `Validate` (or go to \n",
    "`Kernel`$\\rightarrow$`Restart and Run All`). \n",
    "- Good luck!"
   ]
  },
  {
   "cell_type": "code",
   "execution_count": 2,
   "metadata": {},
   "outputs": [],
   "source": [
    "# load these packages\n",
    "from pyspark.ml import feature\n",
    "from pyspark.ml import clustering\n",
    "from pyspark.ml import Pipeline\n",
    "from pyspark.ml import pipeline\n",
    "from pyspark.sql import functions as fn\n",
    "import numpy as np\n",
    "from pyspark.sql import SparkSession\n",
    "from pyspark.ml import feature, regression, evaluation, Pipeline\n",
    "from pyspark.sql import functions as fn, Row\n",
    "import matplotlib.pyplot as plt\n",
    "spark = SparkSession.builder.getOrCreate()\n",
    "sc = spark.sparkContext\n",
    "import pandas as pd"
   ]
  },
  {
   "cell_type": "markdown",
   "metadata": {},
   "source": [
    "# Part 2. Unsupervised learning\n",
    "\n",
    "I would recommend to follow the notebook `unsupervised_learning.ipynb` first, shared through the IST 718 repository."
   ]
  },
  {
   "cell_type": "markdown",
   "metadata": {},
   "source": [
    "The following dataset contains information about Spotify songs."
   ]
  },
  {
   "cell_type": "code",
   "execution_count": 3,
   "metadata": {
    "deletable": false,
    "editable": false,
    "nbgrader": {
     "checksum": "3098e88fb2bf2d67b44482d71d03ab3e",
     "grade": false,
     "grade_id": "cell-8898c04579b9221e",
     "locked": true,
     "schema_version": 1,
     "solution": false
    }
   },
   "outputs": [],
   "source": [
    "spotify_df = spark.read.csv('/datasets/spotify_songs.csv',\n",
    "                            inferSchema=True, header=True).\\\n",
    "                     orderBy(['song_title', 'artist'])"
   ]
  },
  {
   "cell_type": "markdown",
   "metadata": {},
   "source": [
    "# Question 1: (10 pts) \n",
    "\n",
    "Create a fitted pipeline `pipe_pca` that takes the features `acousticness`, `danceability`, `duration_ms`, `energy`, `instrumentalness`, `key`, `liveness`, `loudness`, `mode`, `speechiness`, `tempo`, `time_signature`, and `valence` (in that order), 2) standardize them, and 3) compute the two first principal components. The pipeline should produce a column `pc` which contains these components.\n",
    "\n",
    "Create a dataframe `spotify_pc_df` with all columns of `spotify_df`, in the same order, and the column `pc`."
   ]
  },
  {
   "cell_type": "code",
   "execution_count": 4,
   "metadata": {
    "deletable": false,
    "nbgrader": {
     "checksum": "fe5246f975004002ec6318349b882137",
     "grade": false,
     "grade_id": "cell-cab09e882ef8f6d1",
     "locked": false,
     "schema_version": 1,
     "solution": true
    }
   },
   "outputs": [],
   "source": [
    "# create the pipe_pca PipelineModel below (10 pts)\n",
    "# YOUR CODE HERE\n",
    "#Created pipeline for PCA, and selected the appropriate attributes for display.\n",
    "pipe_pca = Pipeline(stages=[\n",
    "    feature.VectorAssembler(inputCols=['acousticness', 'danceability', 'duration_ms', 'energy', 'instrumentalness', 'key', 'liveness', 'loudness', 'mode', 'speechiness','tempo','time_signature','valence'],\n",
    "                           outputCol='features'),\n",
    "    feature.StandardScaler(withMean=True,\n",
    "                           inputCol='features', outputCol='zfeatures'\n",
    "                          ),\n",
    "    feature.PCA(k=2, inputCol='zfeatures', outputCol='loadings')\n",
    "]).fit(spotify_df)\n",
    "\n",
    "spotify_pc_df=pipe_pca.transform(spotify_df)\n",
    "spotify_pc_df=spotify_pc_df.withColumnRenamed(\"loadings\",\"pc\")\n",
    "spotify_pc_df=spotify_pc_df.select('acousticness',\n",
    " 'danceability',\n",
    " 'duration_ms',\n",
    " 'energy',\n",
    " 'instrumentalness',\n",
    " 'key',\n",
    " 'liveness',\n",
    " 'loudness',\n",
    " 'mode',\n",
    " 'speechiness',\n",
    " 'tempo',\n",
    " 'time_signature',\n",
    " 'valence', 'pc')"
   ]
  },
  {
   "cell_type": "code",
   "execution_count": 5,
   "metadata": {
    "deletable": false,
    "editable": false,
    "nbgrader": {
     "checksum": "3b1f1e65c57796601a7fdccd8815eb23",
     "grade": true,
     "grade_id": "cell-b31329e505038ee3",
     "locked": true,
     "points": 10,
     "schema_version": 1,
     "solution": false
    }
   },
   "outputs": [],
   "source": [
    "# Tests for (10 pts)\n",
    "np.testing.assert_equal(type(pipe_pca),  pipeline.PipelineModel)\n",
    "np.testing.assert_equal(set(spotify_pc_df.columns), {'acousticness',\n",
    " 'danceability',\n",
    " 'duration_ms',\n",
    " 'energy',\n",
    " 'instrumentalness',\n",
    " 'key',\n",
    " 'liveness',\n",
    " 'loudness',\n",
    " 'mode',\n",
    " 'speechiness',\n",
    " 'tempo',\n",
    " 'time_signature',\n",
    " 'valence', 'pc'})\n",
    "np.testing.assert_equal(spotify_pc_df.first().pc.shape, (2, ))"
   ]
  },
  {
   "cell_type": "code",
   "execution_count": 6,
   "metadata": {},
   "outputs": [
    {
     "data": {
      "text/html": [
       "<div>\n",
       "<style scoped>\n",
       "    .dataframe tbody tr th:only-of-type {\n",
       "        vertical-align: middle;\n",
       "    }\n",
       "\n",
       "    .dataframe tbody tr th {\n",
       "        vertical-align: top;\n",
       "    }\n",
       "\n",
       "    .dataframe thead th {\n",
       "        text-align: right;\n",
       "    }\n",
       "</style>\n",
       "<table border=\"1\" class=\"dataframe\">\n",
       "  <thead>\n",
       "    <tr style=\"text-align: right;\">\n",
       "      <th></th>\n",
       "      <th>pc1</th>\n",
       "      <th>pc2</th>\n",
       "    </tr>\n",
       "  </thead>\n",
       "  <tbody>\n",
       "    <tr>\n",
       "      <th>acousticness</th>\n",
       "      <td>-0.442305</td>\n",
       "      <td>0.139134</td>\n",
       "    </tr>\n",
       "    <tr>\n",
       "      <th>danceability</th>\n",
       "      <td>0.172181</td>\n",
       "      <td>0.586402</td>\n",
       "    </tr>\n",
       "    <tr>\n",
       "      <th>duration_ms</th>\n",
       "      <td>-0.201088</td>\n",
       "      <td>-0.080908</td>\n",
       "    </tr>\n",
       "    <tr>\n",
       "      <th>energy</th>\n",
       "      <td>0.496684</td>\n",
       "      <td>-0.225463</td>\n",
       "    </tr>\n",
       "    <tr>\n",
       "      <th>instrumentalness</th>\n",
       "      <td>-0.255942</td>\n",
       "      <td>-0.226391</td>\n",
       "    </tr>\n",
       "    <tr>\n",
       "      <th>key</th>\n",
       "      <td>0.074194</td>\n",
       "      <td>-0.088999</td>\n",
       "    </tr>\n",
       "    <tr>\n",
       "      <th>liveness</th>\n",
       "      <td>0.121120</td>\n",
       "      <td>-0.362308</td>\n",
       "    </tr>\n",
       "    <tr>\n",
       "      <th>loudness</th>\n",
       "      <td>0.503430</td>\n",
       "      <td>-0.147281</td>\n",
       "    </tr>\n",
       "    <tr>\n",
       "      <th>mode</th>\n",
       "      <td>-0.066402</td>\n",
       "      <td>0.069554</td>\n",
       "    </tr>\n",
       "    <tr>\n",
       "      <th>speechiness</th>\n",
       "      <td>0.156085</td>\n",
       "      <td>0.085936</td>\n",
       "    </tr>\n",
       "    <tr>\n",
       "      <th>tempo</th>\n",
       "      <td>0.117933</td>\n",
       "      <td>-0.335267</td>\n",
       "    </tr>\n",
       "    <tr>\n",
       "      <th>time_signature</th>\n",
       "      <td>0.189383</td>\n",
       "      <td>0.162353</td>\n",
       "    </tr>\n",
       "    <tr>\n",
       "      <th>valence</th>\n",
       "      <td>0.264425</td>\n",
       "      <td>0.465056</td>\n",
       "    </tr>\n",
       "  </tbody>\n",
       "</table>\n",
       "</div>"
      ],
      "text/plain": [
       "                       pc1       pc2\n",
       "acousticness     -0.442305  0.139134\n",
       "danceability      0.172181  0.586402\n",
       "duration_ms      -0.201088 -0.080908\n",
       "energy            0.496684 -0.225463\n",
       "instrumentalness -0.255942 -0.226391\n",
       "key               0.074194 -0.088999\n",
       "liveness          0.121120 -0.362308\n",
       "loudness          0.503430 -0.147281\n",
       "mode             -0.066402  0.069554\n",
       "speechiness       0.156085  0.085936\n",
       "tempo             0.117933 -0.335267\n",
       "time_signature    0.189383  0.162353\n",
       "valence           0.264425  0.465056"
      ]
     },
     "execution_count": 6,
     "metadata": {},
     "output_type": "execute_result"
    }
   ],
   "source": [
    "# Evaluated the value of each of the 13 features in both PC1 and PC2, and segregated them.\n",
    "pr_components = pipe_pca.stages[-1].pc.toArray()\n",
    "pr=[pr_components[i] for i in range(0,len(pr_components))]\n",
    "pc1=[pr[i][0] for i in range(0,len(pr))]\n",
    "pc2=[pr[i][1] for i in range(0,len(pr))]\n",
    "index=['acousticness',\n",
    " 'danceability',\n",
    " 'duration_ms',\n",
    " 'energy',\n",
    " 'instrumentalness',\n",
    " 'key',\n",
    " 'liveness',\n",
    " 'loudness',\n",
    " 'mode',\n",
    " 'speechiness',\n",
    " 'tempo',\n",
    " 'time_signature',\n",
    " 'valence']\n",
    "ds_features_df=pd.DataFrame({\"pc1\":pc1,\"pc2\":pc2},index=index)\n",
    "ds_features_df"
   ]
  },
  {
   "cell_type": "markdown",
   "metadata": {},
   "source": [
    "# Question 2: (10 pts)\n",
    "\n",
    "Create a scatter plot with the x axis containing the first principal component and the y axis containing the second principal component of `ds_features_df`"
   ]
  },
  {
   "cell_type": "code",
   "execution_count": 7,
   "metadata": {},
   "outputs": [
    {
     "data": {
      "image/png": "[encoded data removed]",
      "text/plain": [
       "<Figure size 432x288 with 1 Axes>"
      ]
     },
     "metadata": {
      "needs_background": "light"
     },
     "output_type": "display_data"
    }
   ],
   "source": [
    "# Due to confusion in which kind of plot to use, plotted the scatterplot with values of PC1 and PC2 for each feature.\n",
    "plt.scatter(ds_features_df['pc1'], ds_features_df['pc2'])\n",
    "plt.title('PC1 Vs. PC2')\n",
    "plt.xlabel('Principal Component 1')\n",
    "plt.ylabel('Principal Component 2')\n",
    "plt.show()"
   ]
  },
  {
   "cell_type": "code",
   "execution_count": 8,
   "metadata": {
    "deletable": false,
    "nbgrader": {
     "checksum": "25f8bfc0359ff722d557a39233e1bfe2",
     "grade": true,
     "grade_id": "cell-cfe761874325794d",
     "locked": false,
     "points": 10,
     "schema_version": 1,
     "solution": true
    }
   },
   "outputs": [
    {
     "data": {
      "image/png": "[encoded data removed]",
      "text/plain": [
       "<Figure size 432x288 with 1 Axes>"
      ]
     },
     "metadata": {
      "needs_background": "light"
     },
     "output_type": "display_data"
    }
   ],
   "source": [
    "# below perform the appropriate \n",
    "# YOUR CODE HERE\n",
    "# Split the Principal Components column to a new dataframe with the Components in column\n",
    "df=spotify_pc_df.select(\"pc\").toPandas()\n",
    "l1=[df['pc'][i][0] for i in range(0,len(df['pc']))] \n",
    "l2=[df['pc'][i][1] for i in range(0,len(df['pc']))] \n",
    "ds_features_df1=pd.DataFrame({'pc1':l1,'pc2':l2})\n",
    "\n",
    "# Scatter plot\n",
    "plt.scatter(ds_features_df1['pc1'], ds_features_df1['pc2'])\n",
    "plt.title('PC1 Vs. PC2')\n",
    "plt.xlabel('Principal Component 1')\n",
    "plt.ylabel('Principal Component 2')\n",
    "plt.show()"
   ]
  },
  {
   "cell_type": "code",
   "execution_count": 9,
   "metadata": {},
   "outputs": [
    {
     "data": {
      "text/html": [
       "<div>\n",
       "<style scoped>\n",
       "    .dataframe tbody tr th:only-of-type {\n",
       "        vertical-align: middle;\n",
       "    }\n",
       "\n",
       "    .dataframe tbody tr th {\n",
       "        vertical-align: top;\n",
       "    }\n",
       "\n",
       "    .dataframe thead th {\n",
       "        text-align: right;\n",
       "    }\n",
       "</style>\n",
       "<table border=\"1\" class=\"dataframe\">\n",
       "  <thead>\n",
       "    <tr style=\"text-align: right;\">\n",
       "      <th></th>\n",
       "      <th>pc1</th>\n",
       "      <th>pc2</th>\n",
       "    </tr>\n",
       "  </thead>\n",
       "  <tbody>\n",
       "    <tr>\n",
       "      <th>0</th>\n",
       "      <td>-0.868575</td>\n",
       "      <td>0.043302</td>\n",
       "    </tr>\n",
       "    <tr>\n",
       "      <th>1</th>\n",
       "      <td>0.737134</td>\n",
       "      <td>0.222256</td>\n",
       "    </tr>\n",
       "    <tr>\n",
       "      <th>2</th>\n",
       "      <td>-0.371480</td>\n",
       "      <td>-0.541702</td>\n",
       "    </tr>\n",
       "    <tr>\n",
       "      <th>3</th>\n",
       "      <td>-4.209029</td>\n",
       "      <td>0.019387</td>\n",
       "    </tr>\n",
       "    <tr>\n",
       "      <th>4</th>\n",
       "      <td>-0.383859</td>\n",
       "      <td>1.086722</td>\n",
       "    </tr>\n",
       "  </tbody>\n",
       "</table>\n",
       "</div>"
      ],
      "text/plain": [
       "        pc1       pc2\n",
       "0 -0.868575  0.043302\n",
       "1  0.737134  0.222256\n",
       "2 -0.371480 -0.541702\n",
       "3 -4.209029  0.019387\n",
       "4 -0.383859  1.086722"
      ]
     },
     "execution_count": 9,
     "metadata": {},
     "output_type": "execute_result"
    }
   ],
   "source": [
    "ds_features_df1.head()"
   ]
  },
  {
   "cell_type": "markdown",
   "metadata": {},
   "source": [
    "# Question 3 (10 pts)\n",
    "\n",
    "Create two Pandas dataframes `pc1_pd` and `pc2_pd` with the columns `feature` and `abs_loading` that contain the top 3 features in absolute loading for the principal components 1 and 2, respetively."
   ]
  },
  {
   "cell_type": "code",
   "execution_count": 8,
   "metadata": {
    "deletable": false,
    "nbgrader": {
     "checksum": "21ba70a5a4393b6c5f5d5ce14bca6f26",
     "grade": false,
     "grade_id": "cell-f9d1641edcc927e5",
     "locked": false,
     "schema_version": 1,
     "solution": true
    }
   },
   "outputs": [],
   "source": [
    "# YOUR CODE HERE\n",
    "# Sorted the absolute factor loading values, and selected the top 3.  \n",
    "pc1_pd=pd.DataFrame(ds_features_df['pc1']).reset_index()\n",
    "pc1_pd['pc1']=pc1_pd['pc1'].abs()\n",
    "pc1_pd=pc1_pd.sort_values(by='pc1',ascending=False)\n",
    "pc1_pd=pc1_pd[0:3]\n",
    "pc2_pd=pd.DataFrame(ds_features_df['pc2']).reset_index()\n",
    "pc2_pd['pc2']=pc2_pd['pc2'].abs()\n",
    "pc2_pd=pc2_pd.sort_values(by='pc2',ascending=False)\n",
    "pc2_pd=pc2_pd[0:3]"
   ]
  },
  {
   "cell_type": "code",
   "execution_count": 9,
   "metadata": {},
   "outputs": [
    {
     "data": {
      "text/html": [
       "<div>\n",
       "<style scoped>\n",
       "    .dataframe tbody tr th:only-of-type {\n",
       "        vertical-align: middle;\n",
       "    }\n",
       "\n",
       "    .dataframe tbody tr th {\n",
       "        vertical-align: top;\n",
       "    }\n",
       "\n",
       "    .dataframe thead th {\n",
       "        text-align: right;\n",
       "    }\n",
       "</style>\n",
       "<table border=\"1\" class=\"dataframe\">\n",
       "  <thead>\n",
       "    <tr style=\"text-align: right;\">\n",
       "      <th></th>\n",
       "      <th>feature</th>\n",
       "      <th>abs_loading</th>\n",
       "    </tr>\n",
       "  </thead>\n",
       "  <tbody>\n",
       "    <tr>\n",
       "      <th>7</th>\n",
       "      <td>loudness</td>\n",
       "      <td>0.503430</td>\n",
       "    </tr>\n",
       "    <tr>\n",
       "      <th>3</th>\n",
       "      <td>energy</td>\n",
       "      <td>0.496684</td>\n",
       "    </tr>\n",
       "    <tr>\n",
       "      <th>0</th>\n",
       "      <td>acousticness</td>\n",
       "      <td>0.442305</td>\n",
       "    </tr>\n",
       "  </tbody>\n",
       "</table>\n",
       "</div>"
      ],
      "text/plain": [
       "        feature  abs_loading\n",
       "7      loudness     0.503430\n",
       "3        energy     0.496684\n",
       "0  acousticness     0.442305"
      ]
     },
     "execution_count": 9,
     "metadata": {},
     "output_type": "execute_result"
    }
   ],
   "source": [
    "pc1_pd.rename(columns={'index':'feature','pc1':'abs_loading'},inplace=True)\n",
    "pc1_pd"
   ]
  },
  {
   "cell_type": "code",
   "execution_count": 10,
   "metadata": {},
   "outputs": [
    {
     "data": {
      "text/html": [
       "<div>\n",
       "<style scoped>\n",
       "    .dataframe tbody tr th:only-of-type {\n",
       "        vertical-align: middle;\n",
       "    }\n",
       "\n",
       "    .dataframe tbody tr th {\n",
       "        vertical-align: top;\n",
       "    }\n",
       "\n",
       "    .dataframe thead th {\n",
       "        text-align: right;\n",
       "    }\n",
       "</style>\n",
       "<table border=\"1\" class=\"dataframe\">\n",
       "  <thead>\n",
       "    <tr style=\"text-align: right;\">\n",
       "      <th></th>\n",
       "      <th>feature</th>\n",
       "      <th>abs_loading</th>\n",
       "    </tr>\n",
       "  </thead>\n",
       "  <tbody>\n",
       "    <tr>\n",
       "      <th>1</th>\n",
       "      <td>danceability</td>\n",
       "      <td>0.586402</td>\n",
       "    </tr>\n",
       "    <tr>\n",
       "      <th>12</th>\n",
       "      <td>valence</td>\n",
       "      <td>0.465056</td>\n",
       "    </tr>\n",
       "    <tr>\n",
       "      <th>6</th>\n",
       "      <td>liveness</td>\n",
       "      <td>0.362308</td>\n",
       "    </tr>\n",
       "  </tbody>\n",
       "</table>\n",
       "</div>"
      ],
      "text/plain": [
       "         feature  abs_loading\n",
       "1   danceability     0.586402\n",
       "12       valence     0.465056\n",
       "6       liveness     0.362308"
      ]
     },
     "execution_count": 10,
     "metadata": {},
     "output_type": "execute_result"
    }
   ],
   "source": [
    "pc2_pd.rename(columns={'index':'feature','pc2':'abs_loading'},inplace=True)\n",
    "pc2_pd"
   ]
  },
  {
   "cell_type": "code",
   "execution_count": 11,
   "metadata": {
    "deletable": false,
    "editable": false,
    "nbgrader": {
     "checksum": "dde1abe5738bb473b5ae1340c9ff533a",
     "grade": true,
     "grade_id": "cell-6d6497bbef7511c8",
     "locked": true,
     "points": 10,
     "schema_version": 1,
     "solution": false
    }
   },
   "outputs": [],
   "source": [
    "# (10 pts)\n",
    "assert type(pc1_pd) == pd.core.frame.DataFrame\n",
    "assert type(pc2_pd) == pd.core.frame.DataFrame\n",
    "np.testing.assert_array_equal(pc1_pd.shape, (3, 2))\n",
    "np.testing.assert_array_equal(pc2_pd.shape, (3, 2))\n",
    "np.testing.assert_equal(set(pc1_pd.columns), {'abs_loading', 'feature'})\n",
    "np.testing.assert_equal(set(pc2_pd.columns), {'abs_loading', 'feature'})"
   ]
  },
  {
   "cell_type": "markdown",
   "metadata": {},
   "source": [
    "# Question 4: (10 pts)\n",
    "\n",
    "Similar to question 1, create a new pipeline for PCA called `pipe_pca2` where you fit 10 principal components instead of the 3 above. Extract the `PCAModel` from the stages of this pipeline, and assign to a variable `explainedVariance` the variance explained by components of such model. Finally, assign to a variable `best_k` the value $k$ such that the ($k+1$)-th component explains less than 0.01 variance. You can use a for-loop to find such best k."
   ]
  },
  {
   "cell_type": "code",
   "execution_count": 12,
   "metadata": {
    "deletable": false,
    "nbgrader": {
     "checksum": "8f1eb781acb7a61a4176067666602247",
     "grade": false,
     "grade_id": "cell-3c9669871f98d13c",
     "locked": false,
     "schema_version": 1,
     "solution": true
    }
   },
   "outputs": [
    {
     "name": "stdout",
     "output_type": "stream",
     "text": [
      "best_k = 10\n"
     ]
    }
   ],
   "source": [
    "# YOUR CODE HERE\n",
    "# Created pipeline for PCA with 10 PCs.\n",
    "pipe_pca2 = Pipeline(stages=[\n",
    "    feature.VectorAssembler(inputCols=['acousticness', 'danceability', 'duration_ms', 'energy', 'instrumentalness', 'key', 'liveness', 'loudness', 'mode', 'speechiness','tempo','time_signature','valence'],\n",
    "                           outputCol='features'),\n",
    "    feature.StandardScaler(withMean=True,\n",
    "                           inputCol='features', outputCol='zfeatures'\n",
    "                          ),\n",
    "    feature.PCA(k=10, inputCol='zfeatures', outputCol='loadings')\n",
    "]).fit(spotify_df)\n",
    "\n",
    "spotify_pc_df2=pipe_pca.transform(spotify_df)\n",
    "spotify_pc_df2=spotify_pc_df2.withColumnRenamed(\"loadings\",\"pc\")\n",
    "spotify_pc_df2=spotify_pc_df2.select('acousticness',\n",
    " 'danceability',\n",
    " 'duration_ms',\n",
    " 'energy',\n",
    " 'instrumentalness',\n",
    " 'key',\n",
    " 'liveness',\n",
    " 'loudness',\n",
    " 'mode',\n",
    " 'speechiness',\n",
    " 'tempo',\n",
    " 'time_signature',\n",
    " 'valence', 'pc')\n",
    "\n",
    "PCAModel=pipe_pca2.stages[-1]\n",
    "explainedVariance=PCAModel.explainedVariance\n",
    "\n",
    "# Identifying best 'k', by creating a counter which adds 1 when it is more than 0.01, and stops as soon as it reaches the threshold.\n",
    "best_k=0\n",
    "for k in range(0,len(explainedVariance)):\n",
    "    if explainedVariance[k]>0.01:\n",
    "        best_k=best_k+1\n",
    "    else:\n",
    "        best_k=best_k\n",
    "print(\"best_k =\", best_k)\n",
    "        "
   ]
  },
  {
   "cell_type": "code",
   "execution_count": 13,
   "metadata": {
    "deletable": false,
    "editable": false,
    "nbgrader": {
     "checksum": "c02a08aea8bce975c3b1373ff5d7d1ca",
     "grade": true,
     "grade_id": "cell-ccc5cf39716a4854",
     "locked": true,
     "points": 10,
     "schema_version": 1,
     "solution": false
    }
   },
   "outputs": [],
   "source": [
    "# Tests (10 pts)\n",
    "np.testing.assert_equal(type(pipe_pca2.stages[-1]),  feature.PCAModel)\n",
    "np.testing.assert_equal(len(explainedVariance), 10)"
   ]
  },
  {
   "cell_type": "markdown",
   "metadata": {},
   "source": [
    "# Question 5 (10 pts)\n",
    "\n",
    "Perform k-means on the features (not standardized) of the Spotify dataset with k = 5. Do this by creating a fitted pipeline `pipe_kmeans` that produces a column `cluster` with the cluster membership number of a song. Create a second fitted pipeline `pipe_analysis` that combines both `pipe_pca` and `pipe_kmeans` and fit it to the data. Finally, create a dataframe `spotify_features_df` that contains as columns the principal components `pc` and the cluster membership `cluster`. **Note**: Make sure to not create naming conflicts between the standardized features created by `pipe_pca` and the non-standardized features created by `pipe_kmeans`."
   ]
  },
  {
   "cell_type": "code",
   "execution_count": 14,
   "metadata": {
    "deletable": false,
    "nbgrader": {
     "checksum": "c9c3ae4dffacab679c275fc2aaacabd5",
     "grade": false,
     "grade_id": "cell-fee5d0c0eda772bc",
     "locked": false,
     "schema_version": 1,
     "solution": true
    }
   },
   "outputs": [],
   "source": [
    "# YOUR CODE HERE\n",
    "# Concatenated two pipes, one for PCA and one for k-means\n",
    "pipe_kmeans=Pipeline(stages=[\n",
    "    feature.VectorAssembler(inputCols=['acousticness', 'danceability', 'duration_ms', 'energy', 'instrumentalness', 'key', 'liveness', 'loudness', 'mode', 'speechiness','tempo','time_signature','valence'],\n",
    "                           outputCol='features1'),\n",
    "    clustering.KMeans(k=5, featuresCol='features1', predictionCol='cluster')]).fit(spotify_df)\n",
    "\n",
    "pipe_analysis=Pipeline(stages=[pipe_pca,pipe_kmeans]).fit(spotify_df)\n",
    "\n",
    "spotify_features_df=pipe_analysis.transform(spotify_df)\n",
    "spotify_features_df=spotify_features_df.withColumnRenamed(\"loadings\",\"pc\")\n",
    "spotify_features=spotify_features_df.select('pc','cluster')\n",
    "data=spotify_features"
   ]
  },
  {
   "cell_type": "code",
   "execution_count": 15,
   "metadata": {
    "deletable": false,
    "editable": false,
    "nbgrader": {
     "checksum": "e83fb311e13f751c40f5835f4451b931",
     "grade": true,
     "grade_id": "cell-1f9d3ab405466a6c",
     "locked": true,
     "points": 10,
     "schema_version": 1,
     "solution": false
    }
   },
   "outputs": [],
   "source": [
    "# Tests for (10 pts)\n",
    "np.testing.assert_equal(type(pipe_kmeans),  pipeline.PipelineModel)\n",
    "np.testing.assert_equal(type(pipe_analysis),  pipeline.PipelineModel)\n",
    "np.testing.assert_equal(set(spotify_features.columns), {'pc', 'cluster'})\n",
    "np.testing.assert_equal(spotify_features.first().pc.shape, (2, ))\n",
    "np.testing.assert_equal(type(spotify_features.first().cluster), int)\n",
    "### BEGIN HDIDEN TESTS\n",
    "np.testing.assert_array_equal(len(pipe_kmeans.stages), 2)"
   ]
  },
  {
   "cell_type": "markdown",
   "metadata": {},
   "source": [
    "**10 pts**: Below, create a plot with the x axis being the first principal component and y-axis being the second principal component, using `spotify_features`. Set the color of each song with the cluster number."
   ]
  },
  {
   "cell_type": "code",
   "execution_count": 16,
   "metadata": {
    "deletable": false,
    "nbgrader": {
     "checksum": "2ab29389c0c6b1d29a76f66c71b7e665",
     "grade": true,
     "grade_id": "cell-0c21384c9486b25c",
     "locked": false,
     "points": 10,
     "schema_version": 1,
     "solution": true
    }
   },
   "outputs": [
    {
     "data": {
      "image/png": "[encoded data removed]",
      "text/plain": [
       "<Figure size 432x288 with 1 Axes>"
      ]
     },
     "metadata": {
      "needs_background": "light"
     },
     "output_type": "display_data"
    }
   ],
   "source": [
    "# YOUR CODE HERE\n",
    "# Used clusters as the colour parameter, to identify 5 different clusters in the data.\n",
    "data=spotify_features.toPandas()\n",
    "ls1=[x[0] for x in data[\"pc\"]]\n",
    "ls2=[x[1] for x in data[\"pc\"]]\n",
    "clusters=[data['cluster'][i] for i in range(len(data))]\n",
    "\n",
    "df=pd.DataFrame({\"pc1\":ls1,\"pc2\":ls2,\"clusters\":clusters})\n",
    "\n",
    "plt.scatter(df['pc1'],df['pc2'],c=df['clusters'])\n",
    "plt.title('k-Means Clustering for k=5')\n",
    "plt.xlabel('Principal Component 1')\n",
    "plt.ylabel('Principal Component 2')\n",
    "plt.show()"
   ]
  }
 ],
 "metadata": {
  "kernelspec": {
   "display_name": "Python 3",
   "language": "python",
   "name": "python3"
  },
  "language_info": {
   "codemirror_mode": {
    "name": "ipython",
    "version": 3
   },
   "file_extension": ".py",
   "mimetype": "text/x-python",
   "name": "python",
   "nbconvert_exporter": "python",
   "pygments_lexer": "ipython3",
   "version": "3.6.7"
  }
 },
 "nbformat": 4,
 "nbformat_minor": 2
}
