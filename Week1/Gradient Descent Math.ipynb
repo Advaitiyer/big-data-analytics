{
 "cells": [
  {
   "cell_type": "markdown",
   "metadata": {},
   "source": [
    "# IST 718: Big Data Analytics\n",
    "\n",
    "- Professor: Daniel Acuna <deacuna@syr.edu>\n",
    "\n",
    "## General instructions:\n",
    "\n",
    "- You are welcome to discuss the problems with your classmates but __you are not allowed to copy any part of your answers either from your classmates or from the internet__\n",
    "- You can put the homework files anywhere you want in your http://notebook.acuna.io workspace but _do not change_ the file names. The TAs and the professor use these names to grade your homework.\n",
    "- Remove or comment out code that contains `raise NotImplementedError`. This is mainly to make the `assert` statement fail if nothing is submitted.\n",
    "- The tests shown in some cells (i.e., `assert` and `np.testing.` statements) are used to grade your answers. **However, the professor and TAs will use __additional__ test for your answer. Think about cases where your code should run even if it passess all the tests you see.**\n",
    "- Before downloading and submitting your work through Blackboard, remember to save and press `Validate` (or go to \n",
    "`Kernel`$\\rightarrow$`Restart and Run All`). \n",
    "- Good luck!"
   ]
  },
  {
   "cell_type": "markdown",
   "metadata": {},
   "source": [
    "# Math"
   ]
  },
  {
   "cell_type": "markdown",
   "metadata": {},
   "source": [
    "Assume a linear model of the form:\n",
    "$$\n",
    "\\hat{y} = b_0 + b_1x\n",
    "$$\n",
    "and a dataset\n",
    "$$\n",
    "\\{ (x_1, y_1), (x_2, y_2), \\dots, (x_n, y_n) \\}.\n",
    "$$\n",
    "\n",
    "Using the following loss function\n",
    "$$\n",
    "L(b_0, b_1) = \\sum_{i=1}^n (\\hat{y}_i - y_i)^2 + \\lambda b_1^2\n",
    "$$\n",
    "where $\\lambda$ is a constant greater than 0.\n",
    "\n",
    "\n",
    "The following properties might help you:\n",
    "$$\\frac{d(L(x) + G(x))}{dx} = \\frac{dL(x)}{dx} + \\frac{dG(x)}{dx}$$\n",
    "\n",
    "$$\\frac{d(x-a)^2}{dx} = 2(x-a)$$\n",
    "\n",
    "$$\\frac{d(F(G(x))}{dx} = \\frac{dF(G)}{dG} \\frac{dG(x)}{dx}$$\n",
    "\n",
    "**show your work**"
   ]
  },
  {
   "cell_type": "markdown",
   "metadata": {},
   "source": [
    "## question 1 (20 pts)\n",
    "\n",
    "Derive the optimal value of $b_0$ and $b_1$ for the data. This is, derive the best values by solving the set of equations\n",
    "$$\\frac{dL}{db_0} = 0$$\n",
    "$$\\frac{dL}{db_1} = 0$$\n"
   ]
  },
  {
   "cell_type": "markdown",
   "metadata": {
    "deletable": false,
    "nbgrader": {
     "checksum": "75c01f1d61e95ae4fa91d98d0d275339",
     "grade": true,
     "grade_id": "cell-2b826dd1d0083854",
     "locked": false,
     "points": 20,
     "schema_version": 1,
     "solution": true
    }
   },
   "source": [
    "For the given loss function $L(b_0, b_1) = \\sum_{i=1}^n (\\hat{y}_i - y_i)^2 + \\lambda b_1^2$, by substituting the value of $y_0$, we can say that: \n",
    "$$L(b_0, b_1) = \\sum_{i=1}^n (\\hat{y}_i - b_0 + b_1x)^2 + \\lambda b_1^2$$\n",
    "\n",
    "1) Question 1: \n",
    "$$\n",
    "\\frac{dL(x)}{db_{0}} = 0\n",
    "$$\n",
    "\n",
    "$$\n",
    "\\Rightarrow \\frac{dL(x)}{db_{0}} = \\frac{d[\\sum_{i=1}^n(b_0 + b_1x_i)+\\lambda b_1^2]}{db_0}\n",
    "$$\n",
    "$$\n",
    "\\Rightarrow \\sum_{i=1}^n{2\\cdot (b_0 + b_1x_i - y_i)\\cdot (1)} = 0\n",
    "$$\n",
    "$$\n",
    "\\Rightarrow 2nb_0 + 2b_1\\sum_{i=1}^n x_i - 2\\sum_{i=1}^n y_i = 0\n",
    "$$\n",
    "$$\n",
    "\\Rightarrow nb_0 = \\sum_{i=1}^n (y_i - b_1x_i)\n",
    "$$\n",
    "\n",
    "$$\n",
    "\\Rightarrow b_0 = \\frac{\\sum_{i=1}^n(y_i - b_1x_i)}{n}\n",
    "$$\n",
    "\n",
    "$$\n",
    "\\Rightarrow b_0 = \\frac{\\sum_{i=1}^n y_i - b_1\\sum_{i=1}^n x_i}{n}\n",
    "$$\n",
    "\n",
    "2) Question 2:\n",
    "$$\n",
    "\\frac{dL(x)}{db_{1}} = 0\n",
    "$$\n",
    "\n",
    "$$\n",
    "\\Rightarrow \\frac{dL(x)}{db_{1}} = \\frac{d[\\sum_{i=1}^n(b_0 + b_1x_i - y_i)^2+\\lambda b_1^2]}{db_1}\n",
    "$$\n",
    "$$\n",
    "\\Rightarrow \\sum_{i=1}^n 2(b_0 + b_1x_i - y_i)\\cdot (x_i) + 2\\lambda b_1 = \\sum_{i=1}^n (b_0 + b_1x_i - y_i)\\cdot (x_i) + \\lambda b_1 = 0\n",
    "$$\n",
    "$$\n",
    "\\Rightarrow b_0\\sum_{i=1}^n x_i + b_1\\sum_{i=1}^n (x_i)^2 - \\sum_{i=1}^n (x_iy_i) + \\lambda b_1 = 0\n",
    "$$\n",
    "$$\n",
    "\\Rightarrow b_0\\sum_{i=1}^n x_i + b_1(\\sum_{i=1}^n (x_i)^2 + \\lambda) - \\sum_{i=1}^n (x_iy_i) = 0\n",
    "$$\n",
    "$$\n",
    "\\Rightarrow b_0 = \\frac{\\sum_{i=1}^n (x_iy_i) - b_1(\\sum_{i=1}^n (x_i)^2 + \\lambda)}{\\sum_{i=1}^n x_i}\n",
    "$$\n",
    "\n",
    "Equating the equations for $b_0$, we get:\n",
    "\n",
    "$$\n",
    "\\frac{\\sum_{i=1}^n (x_iy_i) - b_1(\\sum_{i=1}^n (x_i)^2 + \\lambda)}{\\sum_{i=1}^n x_i} = \\frac{\\sum_{i=1}^ny_i - b_1\\sum_{i=1}^n x_i}{n}\n",
    "$$\n",
    "$$\n",
    "\\Rightarrow n\\sum_{i=1}^n (x_iy_i) - b_1n(\\sum_{i=1}^n (x_i)^2 + \\lambda) = \\sum_{i=1}^n x_i\\cdot \\sum_{i=1}^n y_i - b_1\\sum_{i=1}^n (x_i)^2\n",
    "$$\n",
    "$$\n",
    "\\Rightarrow b_1[\\sum_{i=1}^n (x_i)^2 -n(\\sum_{i=1}^n x_i^2 + \\lambda)] = \\sum_{i=1}^n x_i\\cdot \\sum_{i=1}^n y_i - n\\sum_{i=1}^n(x_iy_i)\n",
    "$$\n",
    "\n",
    "$$\n",
    "\\Rightarrow b_1 = \\frac{\\sum_{i=1}^n x_i\\cdot \\sum_{i=1}^n y_i - n\\sum_{i=1}^nx_iy_i}{\\sum_{i=1}^n (x_i)^2 -n(\\sum_{i=1}^n x_i^2 + \\lambda)}\n",
    "$$\n",
    "\n",
    "Now, we know that:\n",
    "$$\n",
    "b_0 = \\frac{\\sum_{i=1}^n y_i - b_1\\sum_{i=1}^n x_i}{n}\n",
    "$$\n",
    "Substituting the value of $b_1$ in the equation for $b_0$, we get:\n",
    "$$\n",
    "b_0 = \\frac{\\sum_{i=1}^n y_i - [\\frac{\\sum_{i=1}^n x_i\\cdot \\sum_{i=1}^n y_i - n\\sum_{i=1}^nx_iy_i}{(\\sum_{i=1}^n x_i)^2 -n(\\sum_{i=1}^n x_i^2 + \\lambda)}]\\cdot \\sum_{i=1}^n x_i}{n}\n",
    "$$\n",
    "$$\n",
    "\\Rightarrow b_0 = (1/n)\\frac{[\\sum_{i=1}^n(x_i)^2\\sum_{i=1}^ny_i - n\\sum_{i=1}^n(x_i)^2\\sum_{i=1}^ny_i - n\\lambda\\sum_{i=1}^ny_i - (\\sum_{i=1}^nx_i)^2\\sum_{i=1}^ny_i + n\\sum_{i=1}^nx_i\\sum_{i=1}^nx_iy_i]}{(\\sum_{i=1}^nx_i)^2 - n((\\sum_{i=1}^nx_i)^2+\\lambda)}\n",
    "$$\n",
    "\n",
    "$$\n",
    "\\Rightarrow b_0 = (1/n)\\frac{[-n\\sum_{i=1}^n(x_i)^2\\sum_{i=1}^ny_i - n\\lambda\\sum_{i=1}^ny_i + n\\sum_{i=1}^nx_i\\sum_{i=1}^nx_iy_i]}{(\\sum_{i=1}^nx_i)^2 - n(\\sum_{i=1}^n(x_i)^2 + \\lambda)}\n",
    "$$\n",
    "\n",
    "$$\n",
    "\\Rightarrow b_0 = \\frac{\\sum_{i=1}^nx_i\\cdot \\sum_{i=1}^nx_iy_i - \\sum_{i=1}^n(x_i)^2\\sum_{i=1}^ny_i - \\lambda\\sum_{i=1}^ny_i}{(\\sum_{i=1}^nx_i)^2 - n(\\sum_{i=1}^n(x_i)^2 + \\lambda)}\n",
    "$$\n",
    "\n",
    "After solving the equations, we get:\n",
    "\n",
    "$$\n",
    "b_1 = \\frac{\\sum_{i=1}^n x_i\\cdot \\sum_{i=1}^n y_i - n\\sum_{i=1}^nx_iy_i}{\\sum_{i=1}^n (x_i)^2 -n(\\sum_{i=1}^n x_i^2 + \\lambda)}\n",
    "$$\n",
    "\n",
    "$$\n",
    "b_0 = \\frac{\\sum_{i=1}^nx_i\\cdot \\sum_{i=1}^nx_iy_i - \\sum_{i=1}^n(x_i)^2\\sum_{i=1}^ny_i - \\lambda\\sum_{i=1}^ny_i}{(\\sum_{i=1}^nx_i)^2 - n(\\sum_{i=1}^n(x_i)^2 + \\lambda)}\n",
    "$$"
   ]
  },
  {
   "cell_type": "markdown",
   "metadata": {},
   "source": [
    "## question 2 (5 pts)\n",
    "for the following data\n",
    "\\{ (1, -1), (2, -2), (-3, 3) \\}\n",
    "what are the best values of $b_0$ and $b_1$ with $\\lambda = 1$. Use answer from question 1"
   ]
  },
  {
   "cell_type": "markdown",
   "metadata": {
    "deletable": false,
    "nbgrader": {
     "checksum": "2b3d254c667252616399a96c5173d6af",
     "grade": true,
     "grade_id": "cell-e59e46cb84718b0a",
     "locked": false,
     "points": 5,
     "schema_version": 1,
     "solution": true
    }
   },
   "source": [
    "$$\n",
    "b_0 = \\frac{\\sum_{i=1}^nx_i\\cdot \\sum_{i=1}^nx_iy_i - \\sum_{i=1}^n(x_i)^2\\sum_{i=1}^ny_i - \\lambda\\sum_{i=1}^ny_i}{(\\sum_{i=1}^nx_i)^2 - n(\\sum_{i=1}^n(x_i)^2 + \\lambda)}\n",
    "$$\n",
    "\n",
    "Using $x_i = (1,2,-3)$ and $y_i = (-1,-2,3)$, with $n=3$ and $\\lambda = 1$, we get:\n",
    "$$\n",
    "b_0 = \\frac{[(1+2-3)^2\\cdot (-1-1+3) - (1)\\cdot (-1-2+3) - (1+2-3)\\cdot ((1\\cdot (-1))+(2\\cdot (-2))+(3\\cdot (-3))]}{(1+2-3)^2 - (3)\\cdot (((1)^2+(2)^2+(-3)^2)+1)} = 0\n",
    "$$\n",
    "\n",
    "$$\n",
    "b_1 = \\frac{\\sum_{i=1}^n x_i\\cdot \\sum_{i=1}^n y_i - n(\\sum_{i=1}^nx_i)^2}{\\sum_{i=1}^n (x_i)^2 -n(\\sum_{i=1}^n x_i^2 + \\lambda)} \n",
    "$$\n",
    "\n",
    "Therefore,\n",
    "$$\n",
    "b_1 = \\frac{(1+2-3)\\cdot (-1-2+3) - (3)\\cdot ((1\\cdot (-1))+(2\\cdot (-2))+(3\\cdot (-3)))}{(1+2-3)^2 - (3)\\cdot (((1)^2+(2)^2+(-3)^2)+1)} = \\frac{(0)\\cdot (0) - (3)(-14)}{(0)^2 - (3)\\cdot (14+1)} = \\frac{(-14)}{15}\n",
    "$$"
   ]
  },
  {
   "cell_type": "markdown",
   "metadata": {},
   "source": [
    "## question 3 (5 pts)\n",
    "for any dataset, what happens with the optimal value of $b_1$ when $\\lambda$ goes to infinity?"
   ]
  },
  {
   "cell_type": "markdown",
   "metadata": {
    "deletable": false,
    "nbgrader": {
     "checksum": "93bbc4058c280117a4b067aa1cf66a6c",
     "grade": true,
     "grade_id": "cell-27ee1206dd28c923",
     "locked": false,
     "points": 5,
     "schema_version": 1,
     "solution": true
    }
   },
   "source": [
    "Dividing $b_1$ by infinity on both numerator and denominator, we get:\n",
    "\n",
    "$$\n",
    "b_1 = \\frac{\\sum_{i=1}^n x_i/\\lambda\\cdot \\sum_{i=1}^n y_i/\\lambda - n(\\sum_{i=1}^nx_i)^2/\\lambda}{\\sum_{i=1}^n (x_i)^2/ \\lambda -n(\\sum_{i=1}^n x_i^2 + \\lambda)/\\lambda} \n",
    "$$\n",
    "\n",
    "As $\\lambda \\to \\infty$, $1/\\lambda \\to 0$\n",
    "\n",
    "Therefore, at $\\infty$:\n",
    "\n",
    "$$\n",
    "b_1 = 0\n",
    "$$"
   ]
  }
 ],
 "metadata": {
  "kernelspec": {
   "display_name": "Python 3",
   "language": "python",
   "name": "python3"
  },
  "language_info": {
   "codemirror_mode": {
    "name": "ipython",
    "version": 3
   },
   "file_extension": ".py",
   "mimetype": "text/x-python",
   "name": "python",
   "nbconvert_exporter": "python",
   "pygments_lexer": "ipython3",
   "version": "3.7.1"
  }
 },
 "nbformat": 4,
 "nbformat_minor": 2
}
