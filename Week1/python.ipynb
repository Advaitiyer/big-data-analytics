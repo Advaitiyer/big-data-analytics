{
 "cells": [
  {
   "cell_type": "markdown",
   "metadata": {},
   "source": [
    "# IST 718: Big Data Analytics\n",
    "\n",
    "- Professor: Daniel Acuna <deacuna@syr.edu>\n",
    "\n",
    "## General instructions:\n",
    "\n",
    "- You are welcome to discuss the problems with your classmates but __you are not allowed to copy any part of your answers either from your classmates or from the internet__\n",
    "- You can put the homework files anywhere you want in your http://notebook.acuna.io workspace but _do not change_ the file names. The TAs and the professor use these names to grade your homework.\n",
    "- Remove or comment out code that contains `raise NotImplementedError`. This is mainly to make the `assert` statement fail if nothing is submitted.\n",
    "- The tests shown in some cells (i.e., `assert` and `np.testing.` statements) are used to grade your answers. **However, the professor and TAs will use __additional__ test for your answer. Think about cases where your code should run even if it passess all the tests you see.**\n",
    "- Before downloading and submitting your work through Blackboard, remember to save and press `Validate` (or go to \n",
    "`Kernel`$\\rightarrow$`Restart and Run All`). \n",
    "- Good luck!"
   ]
  },
  {
   "cell_type": "markdown",
   "metadata": {},
   "source": [
    "# python"
   ]
  },
  {
   "cell_type": "markdown",
   "metadata": {},
   "source": [
    "# question 1 (10 pts)"
   ]
  },
  {
   "cell_type": "markdown",
   "metadata": {},
   "source": [
    "Create a function named `char_freq` that, given a string, returns a dictionary where the key is a character from the string and the value is the frequency that that character appears in that string. If they are letters, it should not matter the case of the character, and the keys should always be lowercase. **Do not use packages, only do an implementation from scratch**\n",
    "\n",
    "For example, `char_freq(\"hello world\")` should return a dictionary\n",
    "\n",
    "`\n",
    "{'h': 2, 'e': 2, 'l': 4, 'o': 3, ' ': 2, 'w': 2, 'r': 2, 'd': 2}\n",
    "`\n",
    "\n",
    "and \n",
    "\n",
    "`char_freq(\"gattaca\")`\n",
    "\n",
    "should return\n",
    "\n",
    "`{'g': 1, 'a': 3, 't': 2, 'c': 1}`"
   ]
  },
  {
   "cell_type": "code",
   "execution_count": 1,
   "metadata": {
    "deletable": false,
    "nbgrader": {
     "checksum": "486687b0c9739387f06b60cf1a7f1c10",
     "grade": false,
     "grade_id": "cell-6da601caaa40f384",
     "locked": false,
     "schema_version": 1,
     "solution": true
    }
   },
   "outputs": [],
   "source": [
    "# define the function below\n",
    "# Defined the function\n",
    "def char_freq(s):\n",
    "    s = s.lower() # Lowercase all alphabets\n",
    "    freq = {} # Empty dictionary\n",
    "    for i in s:\n",
    "        if i in freq:\n",
    "            freq[i] +=1 # Adds number for cases where frequency is more than 1\n",
    "        else:\n",
    "            freq[i]=1 # Returns 1 for cases with just 1 alphabet\n",
    "    return freq"
   ]
  },
  {
   "cell_type": "code",
   "execution_count": 2,
   "metadata": {},
   "outputs": [
    {
     "data": {
      "text/plain": [
       "{'a': 2}"
      ]
     },
     "execution_count": 2,
     "metadata": {},
     "output_type": "execute_result"
    }
   ],
   "source": [
    "# try it here\n",
    "char_freq(\"Aa\") # case should not matter"
   ]
  },
  {
   "cell_type": "code",
   "execution_count": 3,
   "metadata": {
    "deletable": false,
    "editable": false,
    "nbgrader": {
     "checksum": "9823b0236d9dabd9147d9cffd4fd182d",
     "grade": true,
     "grade_id": "cell-720fda9926b9edf4",
     "locked": true,
     "points": 10,
     "schema_version": 1,
     "solution": false
    }
   },
   "outputs": [],
   "source": [
    "# (10 pts)\n",
    "assert char_freq(\"gattaca\") == {'g': 1, 'a': 3, 't': 2, 'c': 1}\n",
    "assert char_freq(\"hello world\") == {'h': 1, 'e': 1, 'l': 3, 'o': 2, ' ': 1, 'w': 1, 'r': 1, 'd': 1}\n",
    "assert char_freq(\"\") == {}\n",
    "assert char_freq(\"    \") == {' ': 4}\n",
    "assert char_freq(\"AaBbCcDd\") == {'a': 2, 'b': 2, 'c': 2, 'd': 2}"
   ]
  },
  {
   "cell_type": "markdown",
   "metadata": {},
   "source": [
    "## question 2 (30 pts)"
   ]
  },
  {
   "cell_type": "markdown",
   "metadata": {},
   "source": [
    "Sometimes we want to expand our feature set by applying special functions to a feature. This step is commonly known as feature engineering. For example, if we have the $age$ of people as a feature, we might want to expand into $age$, $age^2$, and $\\sqrt{age}$, hence increasing the complexity of our model.\n",
    "\n",
    "In this question, you will write a function `expand` that receives a matrix  $X$ of $n$ rows and $p$ columns and generates a new matrix $E$ where a set of transformations $f_1, f_2, \\dots, f_k$ has been applied to each column in the set.\n",
    "\n",
    "For example, lets assume that $X$ has $p$ columns and we have $k=3$. Then your function should generate a matrix $E$ where the $i$-th row will have the following form\n",
    "\n",
    "$$e_i = \\begin{pmatrix} \n",
    "f_1(x_{i1})\\\\\n",
    "f_2(x_{i1})\\\\\n",
    "f_3(x_{i1})\\\\\n",
    "f_1(x_{i2})\\\\\n",
    "f_2(x_{i2})\\\\\n",
    "f_3(x_{i2})\\\\\\\n",
    "\\dots\\\\\n",
    "f_1(x_{ip})\\\\\n",
    "f_2(x_{ip})\\\\\n",
    "f_3(x_{ip})\\\\\n",
    "\\end{pmatrix}\n",
    "$$\n",
    "\n",
    "The dimensions of $E$ should be $n$ by $kp$.\n",
    "\n",
    "Your function should receive a list of rows as the first parameter `X`, each row represented by a list of elements. The second parameter should be the list of functions to apply $F$. The function should return a matrix $E$ represented as a list of rows as well."
   ]
  },
  {
   "cell_type": "code",
   "execution_count": 119,
   "metadata": {
    "deletable": false,
    "nbgrader": {
     "checksum": "dc2036cb2360b65b304bec61a84dfcd8",
     "grade": false,
     "grade_id": "cell-388ba0325943310f",
     "locked": false,
     "schema_version": 1,
     "solution": true
    },
    "slideshow": {
     "slide_type": ""
    }
   },
   "outputs": [],
   "source": [
    "# implement the functionality below. *Hint*: Use list comprehension\n",
    "def expand(X, F):\n",
    "    # Defining the function expand\n",
    "    E=[] # Introducing an empty list\n",
    "    # Checking and returning for \"integers\"\n",
    "    if str(type(X[0]))==\"<class 'int'>\": #or str(type(X[0]))==\"<class 'int64'>\" or str(type(X[0]))==\"<class 'int32'>\" or str(type(X[0]))==\"<class 'float'>\"  or str(type(X[0])==\"<class 'float64'>\") or str(type(X[0])==\"<class 'float32'>\"):\n",
    "        E=[f(X) for f in F]\n",
    "    # Checking and returning for \"list\"\n",
    "    elif str(type(X))==\"<class 'list'>\":\n",
    "        # Checking and returning for \"integer\" inside \"list\"\n",
    "        if str(type(X[0]))==\"<class 'int'>\": #or str(type(X[0]))==\"<class 'int64'>\" or str(type(X[0]))==\"<class 'int32'>\" or str(type(X[0]))==\"<class 'float'>\"  or str(type(X[0])==\"<class 'float64'>\") or str(type(X[0])==\"<class 'float32'>\"):\n",
    "            E=[f(x) for x in X for f in F]\n",
    "        # Checking and returning for \"integer\" inside nested list\n",
    "        elif str(type(X[0][0]))==\"<class 'int'>\": #or str(type(X[0][0]))==\"<class 'int64'>\" or str(type(X[0][0]))==\"<class 'int32'>\" or str(type(X[0][0]))==\"<class 'float'>\"  or str(type(X[0][0])==\"<class 'float64'>\") or str(type(X[0][0])==\"<class 'float32'>\"):\n",
    "            E=[[f(x) for x in row for f in F] for row in X]\n",
    "        else:\n",
    "            for a in X:\n",
    "                E.append(expand(a,F))\n",
    "    return E"
   ]
  },
  {
   "cell_type": "code",
   "execution_count": 120,
   "metadata": {},
   "outputs": [
    {
     "data": {
      "text/plain": [
       "[[1, 2, 3, 4]]"
      ]
     },
     "execution_count": 120,
     "metadata": {},
     "output_type": "execute_result"
    }
   ],
   "source": [
    "# try the functionality here\n",
    "expand([[1,2,3,4]], [lambda x: x]) # the input and output should be identical"
   ]
  },
  {
   "cell_type": "code",
   "execution_count": 121,
   "metadata": {
    "deletable": false,
    "editable": false,
    "nbgrader": {
     "checksum": "0072d78f72347370bd9c9f311723124b",
     "grade": true,
     "grade_id": "cell-b0301f8f905cdc43",
     "locked": true,
     "points": 30,
     "schema_version": 1,
     "solution": false
    }
   },
   "outputs": [],
   "source": [
    "# (30 pts)\n",
    "assert expand([[1]], [lambda x: 1]) == [[1]]\n",
    "assert expand([[1,2,3], [3,4,5]], [lambda x: x*2, lambda x: x+1]) == [[2, 2, 4, 3, 6, 4], [6, 4, 8, 5, 10, 6]]\n",
    "assert expand([[0,1,0], \n",
    "               [0,1,0],\n",
    "               [-1,0,1]\n",
    "              ], [lambda x: x, lambda x: x**2, lambda x: x**3]) == [[0, 0, 0, 1, 1, 1, 0, 0, 0],\n",
    " [0, 0, 0, 1, 1, 1, 0, 0, 0],\n",
    " [-1, 1, -1, 0, 0, 0, 1, 1, 1]]"
   ]
  }
 ],
 "metadata": {
  "kernelspec": {
   "display_name": "Python 3",
   "language": "python",
   "name": "python3"
  },
  "language_info": {
   "codemirror_mode": {
    "name": "ipython",
    "version": 3
   },
   "file_extension": ".py",
   "mimetype": "text/x-python",
   "name": "python",
   "nbconvert_exporter": "python",
   "pygments_lexer": "ipython3",
   "version": "3.6.7"
  }
 },
 "nbformat": 4,
 "nbformat_minor": 2
}
